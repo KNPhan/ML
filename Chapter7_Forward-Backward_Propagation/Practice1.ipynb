{
  "nbformat": 4,
  "nbformat_minor": 0,
  "metadata": {
    "colab": {
      "provenance": []
    },
    "kernelspec": {
      "name": "python3",
      "display_name": "Python 3"
    },
    "language_info": {
      "name": "python"
    }
  },
  "cells": [
    {
      "cell_type": "code",
      "execution_count": 1,
      "metadata": {
        "id": "dRo8LXN-PXPP"
      },
      "outputs": [],
      "source": [
        "import numpy as np"
      ]
    },
    {
      "cell_type": "markdown",
      "source": [
        "# Define the gates"
      ],
      "metadata": {
        "id": "vXNjePUP7-lV"
      }
    },
    {
      "cell_type": "code",
      "source": [
        "class AddGate:\n",
        "    def __init__(self):\n",
        "        self.x = None\n",
        "        self.y = None\n",
        "\n",
        "    def forward(self, x, y):\n",
        "        self.x = x\n",
        "        self.y = y\n",
        "        return x + y\n",
        "\n",
        "    def backward(self, d_out):\n",
        "        return d_out, d_out\n",
        "\n",
        "\n",
        "class MultiplyGate:\n",
        "    def __init__(self):\n",
        "        self.x = None\n",
        "        self.y = None\n",
        "\n",
        "    def forward(self, x, y):\n",
        "        self.x = x\n",
        "        self.y = y\n",
        "        return x * y\n",
        "\n",
        "    def backward(self, d_out):\n",
        "        dx = d_out * self.y\n",
        "        dy = d_out * self.x\n",
        "        return dx, dy\n",
        "\n",
        "\n",
        "class PowerGate:\n",
        "    def __init__(self, power):\n",
        "        self.x = None\n",
        "        self.power = power\n",
        "\n",
        "    def forward(self, x):\n",
        "        self.x = x\n",
        "        return x ** self.power\n",
        "\n",
        "    def backward(self, d_out):\n",
        "        return d_out * self.power * (self.x ** (self.power - 1))"
      ],
      "metadata": {
        "id": "OUVz7Oj8QqkP"
      },
      "execution_count": 6,
      "outputs": []
    },
    {
      "cell_type": "markdown",
      "source": [
        "# Instantiate gates and input"
      ],
      "metadata": {
        "id": "gPzdK6Kw8QqK"
      }
    },
    {
      "cell_type": "code",
      "source": [
        "# J(w,b) = 1/2 * (a - y)^2\n",
        "\n",
        "add_gate = AddGate()\n",
        "multiply_gate1 = MultiplyGate()\n",
        "multiply_gate2 = MultiplyGate()\n",
        "power_gate = PowerGate(2)\n",
        "\n",
        "# Inputs example\n",
        "w = 2.0   # Weight\n",
        "x = -2.0  # Input\n",
        "b = 8.0   # Bias\n",
        "y = 2.0   # Target value"
      ],
      "metadata": {
        "id": "yITpQV298B6O"
      },
      "execution_count": 5,
      "outputs": []
    },
    {
      "cell_type": "markdown",
      "source": [
        "# Forward propagation"
      ],
      "metadata": {
        "id": "Zw_lLAM08jRM"
      }
    },
    {
      "cell_type": "code",
      "source": [
        "# c = w * x\n",
        "c = multiply_gate1.forward(w, x)\n",
        "\n",
        "# a = c + b\n",
        "a = add_gate.forward(c, b)\n",
        "\n",
        "# d = a - y\n",
        "d = add_gate.forward(a, -y)\n",
        "\n",
        "# e = d^2\n",
        "e = power_gate.forward(d)\n",
        "\n",
        "# J = 0.5 * e\n",
        "J = multiply_gate2.forward(0.5, e)\n",
        "\n",
        "print(\"Forward Propagation:\")\n",
        "print(f\"Loss J: {J}\")"
      ],
      "metadata": {
        "colab": {
          "base_uri": "https://localhost:8080/"
        },
        "id": "e2Ke2ogl8Sf3",
        "outputId": "4e4d1daa-407a-45a3-cc16-233b14d5d701"
      },
      "execution_count": 7,
      "outputs": [
        {
          "output_type": "stream",
          "name": "stdout",
          "text": [
            "Forward Propagation:\n",
            "Loss J: 2.0\n"
          ]
        }
      ]
    },
    {
      "cell_type": "markdown",
      "source": [
        "# Backward propagation"
      ],
      "metadata": {
        "id": "iBLX93Bx8zc_"
      }
    },
    {
      "cell_type": "code",
      "source": [
        "# Backprop through J = 0.5 * e\n",
        "_, A = multiply_gate2.backward(1)\n",
        "\n",
        "# Step 4: Backprop through e = d^2\n",
        "B = power_gate.backward(A)\n",
        "\n",
        "# Step 3: Backprop through d = a - y\n",
        "C,_ = add_gate.backward(B)\n",
        "\n",
        "# Step 2: Backprop through a = c + b\n",
        "D,E = add_gate.backward(B)\n",
        "\n",
        "# Step 1: Backprop through c = w * x\n",
        "F,_ = multiply_gate1.backward(D)\n",
        "\n",
        "print(\"\\nBackward Propagation:\")\n",
        "print(\"A = \", A)\n",
        "print(\"B = \", B)\n",
        "print(\"C = \", C)\n",
        "print(\"D = \", D)\n",
        "print(\"E = \", E)\n",
        "print(\"F = \", F)"
      ],
      "metadata": {
        "colab": {
          "base_uri": "https://localhost:8080/"
        },
        "id": "jm4Qv17_824a",
        "outputId": "e26908dd-4013-4528-fce9-7e8b9be1b015"
      },
      "execution_count": 10,
      "outputs": [
        {
          "output_type": "stream",
          "name": "stdout",
          "text": [
            "\n",
            "Backward Propagation:\n",
            "A =  0.5\n",
            "B =  2.0\n",
            "C =  2.0\n",
            "D =  2.0\n",
            "E =  2.0\n",
            "F =  -4.0\n"
          ]
        }
      ]
    }
  ]
}